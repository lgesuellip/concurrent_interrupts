{
 "cells": [
  {
   "cell_type": "markdown",
   "metadata": {},
   "source": [
    "# LangGraph Concurrent Interrupts - Graph State Analysis\n",
    "\n",
    "This notebook helps you understand and visualize the state of your LangGraph agent with concurrent interrupts.\n",
    "\n",
    "## Overview\n",
    "\n",
    "Your agent implements:\n",
    "- **React Agent v2** with parallel execution\n",
    "- **Concurrent interrupts** using the agent-inbox pattern\n",
    "- **Human-in-the-loop** capabilities with structured interrupt handling\n",
    "- **Two tools**: `fast_analysis_tool` and `slow_processing_tool`"
   ]
  },
  {
   "cell_type": "code",
   "execution_count": 2,
   "metadata": {},
   "outputs": [],
   "source": [
    "import sys\n",
    "import os\n",
    "from pathlib import Path\n",
    "import json\n",
    "import time\n",
    "from datetime import datetime\n",
    "\n",
    "# Add src directory to path\n",
    "sys.path.append('src')\n",
    "\n",
    "from agent import build_agent, HumanInterrupt, ActionRequest, HumanInterruptConfig\n",
    "from langgraph.types import Command\n",
    "from langgraph.checkpoint.memory import MemorySaver"
   ]
  },
  {
   "cell_type": "markdown",
   "metadata": {},
   "source": [
    "## 1. Initialize the Agent\n",
    "\n",
    "Create an agent instance with memory checkpointer for state persistence."
   ]
  },
  {
   "cell_type": "code",
   "execution_count": 3,
   "metadata": {},
   "outputs": [
    {
     "name": "stderr",
     "output_type": "stream",
     "text": [
      "2025-08-19 15:17:58 - agent - INFO - Created React Agent v2 with parallel execution support\n"
     ]
    },
    {
     "name": "stdout",
     "output_type": "stream",
     "text": [
      "✅ Agent initialized with memory checkpointer\n",
      "📝 Thread ID: notebook_session\n"
     ]
    }
   ],
   "source": [
    "# Build agent with local checkpointer\n",
    "agent = build_agent(local_checkpointer=True)\n",
    "\n",
    "# Configuration for this session\n",
    "config = {\n",
    "    \"configurable\": {\"thread_id\": \"notebook_session\"},\n",
    "    \"recursion_limit\": 50\n",
    "}\n",
    "\n",
    "print(\"✅ Agent initialized with memory checkpointer\")\n",
    "print(f\"📝 Thread ID: {config['configurable']['thread_id']}\")"
   ]
  },
  {
   "cell_type": "markdown",
   "metadata": {},
   "source": [
    "## 2. Graph State Inspection Functions\n",
    "\n",
    "Helper functions to inspect and visualize the agent's state."
   ]
  },
  {
   "cell_type": "code",
   "execution_count": 4,
   "metadata": {},
   "outputs": [],
   "source": [
    "def display_state_info(state):\n",
    "    \"\"\"Display comprehensive state information.\"\"\"\n",
    "    print(\"🔍 GRAPH STATE ANALYSIS\")\n",
    "    print(\"=\" * 50)\n",
    "    \n",
    "    # Basic state info\n",
    "    print(f\"📊 State Keys: {list(state.values.keys()) if state.values else 'None'}\")\n",
    "    print(f\"🎯 Next Nodes: {state.next if state.next else 'None (completed)'}\")\n",
    "    print(f\"⚠️  Interrupts: {len(state.interrupts)} active\")\n",
    "    \n",
    "    # Message history\n",
    "    if 'messages' in state.values and state.values['messages']:\n",
    "        print(f\"\\n💬 MESSAGES ({len(state.values['messages'])} total):\")\n",
    "        for i, msg in enumerate(state.values['messages'][-3:], 1):  # Show last 3\n",
    "            role = getattr(msg, 'type', 'unknown')\n",
    "            content = str(getattr(msg, 'content', msg))[:100] + '...' if len(str(getattr(msg, 'content', msg))) > 100 else str(getattr(msg, 'content', msg))\n",
    "            print(f\"  {i}. [{role}]: {content}\")\n",
    "    \n",
    "    # Interrupt details\n",
    "    if state.interrupts:\n",
    "        print(f\"\\n⏸️  ACTIVE INTERRUPTS:\")\n",
    "        for i, interrupt in enumerate(state.interrupts, 1):\n",
    "            print(f\"  {i}. ID: {interrupt.id}\")\n",
    "            print(f\"     Value: {json.dumps(interrupt.value, indent=6) if interrupt.value else 'None'}\")\n",
    "    \n",
    "    print(\"\\n\" + \"=\" * 50)\n",
    "\n",
    "def display_interrupt_details(interrupts):\n",
    "    \"\"\"Display detailed interrupt information for human review.\"\"\"\n",
    "    if not interrupts:\n",
    "        print(\"📝 No interrupts to display\")\n",
    "        return\n",
    "    \n",
    "    print(\"\\n🚨 INTERRUPT DETAILS FOR HUMAN REVIEW\")\n",
    "    print(\"=\" * 60)\n",
    "    \n",
    "    for i, interrupt in enumerate(interrupts, 1):\n",
    "        if interrupt.value:\n",
    "            try:\n",
    "                # Parse interrupt value as HumanInterrupt\n",
    "                interrupt_data = interrupt.value\n",
    "                print(f\"\\n📋 Interrupt #{i}\")\n",
    "                print(f\"   🆔 ID: {interrupt_data.get('id', 'N/A')}\")\n",
    "                print(f\"   📝 Description: {interrupt_data.get('description', 'N/A')}\")\n",
    "                \n",
    "                action_req = interrupt_data.get('action_request', {})\n",
    "                print(f\"   🔧 Action: {action_req.get('action', 'N/A')}\")\n",
    "                print(f\"   📊 Args: {json.dumps(action_req.get('args', {}), indent=8)}\")\n",
    "                \n",
    "                config = interrupt_data.get('config', {})\n",
    "                print(f\"   ⚙️  Allowed Actions:\")\n",
    "                print(f\"      • Accept: {config.get('allow_accept', False)}\")\n",
    "                print(f\"      • Edit: {config.get('allow_edit', False)}\")\n",
    "                print(f\"      • Ignore: {config.get('allow_ignore', False)}\")\n",
    "                print(f\"      • Respond: {config.get('allow_respond', False)}\")\n",
    "                \n",
    "            except Exception as e:\n",
    "                print(f\"   ❌ Error parsing interrupt: {e}\")\n",
    "                print(f\"   📄 Raw value: {interrupt.value}\")\n",
    "    \n",
    "    print(\"\\n\" + \"=\" * 60)"
   ]
  },
  {
   "cell_type": "markdown",
   "metadata": {},
   "source": [
    "## 3. Test Concurrent Execution with Interrupts\n",
    "\n",
    "Run a query that triggers both tools concurrently to see how interrupts work."
   ]
  },
  {
   "cell_type": "code",
   "execution_count": 5,
   "metadata": {},
   "outputs": [
    {
     "name": "stdout",
     "output_type": "stream",
     "text": [
      "🚀 STARTING CONCURRENT EXECUTION\n",
      "📝 Query: Run fast_analysis_tool on 'sales-data-Q4' and slow_processing_tool on 'customer-feedback-data' with mode 'detailed' concurrently\n",
      "======================================================================\n"
     ]
    },
    {
     "name": "stderr",
     "output_type": "stream",
     "text": [
      "2025-08-19 15:18:02 - httpx - INFO - HTTP Request: POST https://api.openai.com/v1/chat/completions \"HTTP/1.1 200 OK\"\n",
      "2025-08-19 15:18:02 - agent - INFO - [FAST_TOOL] Starting analysis of: sales-data-Q4\n",
      "2025-08-19 15:18:02 - agent - INFO - [SLOW_TOOL] Starting detailed processing of: customer-feedback-data\n",
      "2025-08-19 15:18:02 - agent - INFO - [FAST_TOOL] Sleeping for 2 seconds...\n",
      "2025-08-19 15:18:02 - agent - INFO - [SLOW_TOOL] Processing mode: detailed\n",
      "2025-08-19 15:18:02 - agent - INFO - [SLOW_TOOL] Sleeping for 2 seconds...\n",
      "2025-08-19 15:18:04 - agent - INFO - [FAST_TOOL] Interrupting for human approval with ID: 38b983ec-fdfb-443b-ae31-f2597f4b2a55\n",
      "2025-08-19 15:18:04 - agent - INFO - [SLOW_TOOL] Interrupting for human approval with ID: e435acd4-33a1-4e29-b88b-475fb426da73\n"
     ]
    },
    {
     "name": "stdout",
     "output_type": "stream",
     "text": [
      "\n",
      "⏱️  Initial execution time: 4.85s\n",
      "🔍 GRAPH STATE ANALYSIS\n",
      "==================================================\n",
      "📊 State Keys: ['messages']\n",
      "🎯 Next Nodes: ('tools', 'tools')\n",
      "⚠️  Interrupts: 2 active\n",
      "\n",
      "💬 MESSAGES (2 total):\n",
      "  1. [human]: Run fast_analysis_tool on 'sales-data-Q4' and slow_processing_tool on 'customer-feedback-data' with ...\n",
      "  2. [ai]: \n",
      "\n",
      "⏸️  ACTIVE INTERRUPTS:\n",
      "  1. ID: feddc0c963b2e33571a6335b979956d1\n",
      "     Value: {\n",
      "      \"id\": \"38b983ec-fdfb-443b-ae31-f2597f4b2a55\",\n",
      "      \"action_request\": {\n",
      "            \"action\": \"fast_analysis\",\n",
      "            \"args\": {\n",
      "                  \"data\": \"sales-data-Q4\"\n",
      "            }\n",
      "      },\n",
      "      \"config\": {\n",
      "            \"allow_ignore\": true,\n",
      "            \"allow_respond\": false,\n",
      "            \"allow_edit\": true,\n",
      "            \"allow_accept\": true\n",
      "      },\n",
      "      \"description\": \"Fast analysis tool needs approval to complete analysis of: sales-data-Q4.\"\n",
      "}\n",
      "  2. ID: 258a584755b8b7e2a833d1941e8ac9a4\n",
      "     Value: {\n",
      "      \"id\": \"e435acd4-33a1-4e29-b88b-475fb426da73\",\n",
      "      \"action_request\": {\n",
      "            \"action\": \"slow_processing\",\n",
      "            \"args\": {\n",
      "                  \"data\": \"customer-feedback-data\",\n",
      "                  \"mode\": \"detailed\"\n",
      "            }\n",
      "      },\n",
      "      \"config\": {\n",
      "            \"allow_ignore\": true,\n",
      "            \"allow_respond\": false,\n",
      "            \"allow_edit\": true,\n",
      "            \"allow_accept\": true\n",
      "      },\n",
      "      \"description\": \"Slow processing tool needs approval for detailed processing of: customer-feedback-data.\"\n",
      "}\n",
      "\n",
      "==================================================\n"
     ]
    }
   ],
   "source": [
    "# Test query that will trigger both tools concurrently\n",
    "test_query = \"Run fast_analysis_tool on 'sales-data-Q4' and slow_processing_tool on 'customer-feedback-data' with mode 'detailed' concurrently\"\n",
    "\n",
    "print(f\"🚀 STARTING CONCURRENT EXECUTION\")\n",
    "print(f\"📝 Query: {test_query}\")\n",
    "print(\"=\" * 70)\n",
    "\n",
    "start_time = datetime.now()\n",
    "\n",
    "# Start execution\n",
    "response = agent.invoke(\n",
    "    {\"messages\": [(\"user\", test_query)]},\n",
    "    config=config,\n",
    ")\n",
    "\n",
    "print(f\"\\n⏱️  Initial execution time: {(datetime.now() - start_time).total_seconds():.2f}s\")\n",
    "\n",
    "# Get current state\n",
    "state = agent.get_state(config)\n",
    "display_state_info(state)"
   ]
  },
  {
   "cell_type": "markdown",
   "metadata": {},
   "source": [
    "## 4. Handle Interrupts\n",
    "\n",
    "Display interrupt details and provide response options."
   ]
  },
  {
   "cell_type": "code",
   "execution_count": 6,
   "metadata": {},
   "outputs": [
    {
     "name": "stdout",
     "output_type": "stream",
     "text": [
      "\n",
      "🚨 INTERRUPT DETAILS FOR HUMAN REVIEW\n",
      "============================================================\n",
      "\n",
      "📋 Interrupt #1\n",
      "   🆔 ID: 38b983ec-fdfb-443b-ae31-f2597f4b2a55\n",
      "   📝 Description: Fast analysis tool needs approval to complete analysis of: sales-data-Q4.\n",
      "   🔧 Action: fast_analysis\n",
      "   📊 Args: {\n",
      "        \"data\": \"sales-data-Q4\"\n",
      "}\n",
      "   ⚙️  Allowed Actions:\n",
      "      • Accept: True\n",
      "      • Edit: True\n",
      "      • Ignore: True\n",
      "      • Respond: False\n",
      "\n",
      "📋 Interrupt #2\n",
      "   🆔 ID: e435acd4-33a1-4e29-b88b-475fb426da73\n",
      "   📝 Description: Slow processing tool needs approval for detailed processing of: customer-feedback-data.\n",
      "   🔧 Action: slow_processing\n",
      "   📊 Args: {\n",
      "        \"data\": \"customer-feedback-data\",\n",
      "        \"mode\": \"detailed\"\n",
      "}\n",
      "   ⚙️  Allowed Actions:\n",
      "      • Accept: True\n",
      "      • Edit: True\n",
      "      • Ignore: True\n",
      "      • Respond: False\n",
      "\n",
      "============================================================\n",
      "\n",
      "🎮 RESPONSE OPTIONS:\n",
      "==============================\n",
      "1. Accept all: {\"type\": \"accept\"}\n",
      "2. Ignore all: {\"type\": \"ignore\"}\n",
      "3. Edit parameters: {\"type\": \"edit\", \"args\": {\"param\": \"new_value\"}}\n",
      "4. Custom response per interrupt\n"
     ]
    }
   ],
   "source": [
    "# Display interrupt details\n",
    "display_interrupt_details(state.interrupts)\n",
    "\n",
    "if state.interrupts:\n",
    "    print(\"\\n🎮 RESPONSE OPTIONS:\")\n",
    "    print(\"=\" * 30)\n",
    "    print('1. Accept all: {\"type\": \"accept\"}')\n",
    "    print('2. Ignore all: {\"type\": \"ignore\"}')\n",
    "    print('3. Edit parameters: {\"type\": \"edit\", \"args\": {\"param\": \"new_value\"}}')\n",
    "    print('4. Custom response per interrupt')\n",
    "else:\n",
    "    print(\"\\n✅ No interrupts - execution completed!\")"
   ]
  },
  {
   "cell_type": "markdown",
   "metadata": {},
   "source": [
    "## 5. Resume Execution with Different Response Strategies\n",
    "\n",
    "Try different response strategies to see how they affect execution."
   ]
  },
  {
   "cell_type": "code",
   "execution_count": 7,
   "metadata": {},
   "outputs": [
    {
     "name": "stderr",
     "output_type": "stream",
     "text": [
      "2025-08-19 15:18:14 - agent - INFO - [FAST_TOOL] Starting analysis of: sales-data-Q4\n",
      "2025-08-19 15:18:14 - agent - INFO - [FAST_TOOL] Sleeping for 2 seconds...\n",
      "2025-08-19 15:18:14 - agent - INFO - [SLOW_TOOL] Starting detailed processing of: customer-feedback-data\n",
      "2025-08-19 15:18:14 - agent - INFO - [SLOW_TOOL] Processing mode: detailed\n",
      "2025-08-19 15:18:14 - agent - INFO - [SLOW_TOOL] Sleeping for 2 seconds...\n"
     ]
    },
    {
     "name": "stdout",
     "output_type": "stream",
     "text": [
      "\n",
      "🟢 STRATEGY 1: ACCEPT ALL INTERRUPTS\n",
      "========================================\n",
      "📤 Resume map: {\n",
      "  \"feddc0c963b2e33571a6335b979956d1\": {\n",
      "    \"type\": \"accept\"\n",
      "  },\n",
      "  \"258a584755b8b7e2a833d1941e8ac9a4\": {\n",
      "    \"type\": \"accept\"\n",
      "  }\n",
      "}\n"
     ]
    },
    {
     "name": "stderr",
     "output_type": "stream",
     "text": [
      "2025-08-19 15:18:16 - agent - INFO - [FAST_TOOL] Interrupting for human approval with ID: 8c44eb35-ebb1-44b5-8c69-8feaf1c81721\n",
      "2025-08-19 15:18:16 - agent - INFO - [SLOW_TOOL] Interrupting for human approval with ID: ed0df3b3-8db6-421f-abed-6474cc8d4003\n",
      "2025-08-19 15:18:16 - agent - INFO - [FAST_TOOL] Received response for interrupt 8c44eb35-ebb1-44b5-8c69-8feaf1c81721: {'type': 'accept'}\n",
      "2025-08-19 15:18:16 - agent - INFO - [SLOW_TOOL] Received response for interrupt ed0df3b3-8db6-421f-abed-6474cc8d4003: {'type': 'accept'}\n",
      "2025-08-19 15:18:16 - agent - INFO - [FAST_TOOL] Response type: accept\n",
      "2025-08-19 15:18:16 - agent - INFO - [SLOW_TOOL] Response type: accept\n",
      "2025-08-19 15:18:16 - agent - INFO - [FAST_TOOL] Analysis approved\n",
      "2025-08-19 15:18:16 - agent - INFO - [SLOW_TOOL] Processing approved\n",
      "2025-08-19 15:18:16 - agent - INFO - [FAST_TOOL] Total execution time: 2 seconds\n",
      "2025-08-19 15:18:16 - agent - INFO - [SLOW_TOOL] Total execution time: 2 seconds\n",
      "2025-08-19 15:18:17 - httpx - INFO - HTTP Request: POST https://api.openai.com/v1/chat/completions \"HTTP/1.1 200 OK\"\n"
     ]
    },
    {
     "name": "stdout",
     "output_type": "stream",
     "text": [
      "\n",
      "⏱️  Resume execution time: 3.64s\n",
      "🏁 Total execution time: 18.13s\n",
      "\n",
      "💬 Final Response: The operations were completed successfully:\n",
      "\n",
      "1. **Fast Analysis**: Completed on `sales-data-Q4` - Decision: approved.\n",
      "2. **Slow Processing**: Completed on `customer-feedback-data` with mode `detailed` - Decision: approved.\n",
      "🔍 GRAPH STATE ANALYSIS\n",
      "==================================================\n",
      "📊 State Keys: ['messages']\n",
      "🎯 Next Nodes: None (completed)\n",
      "⚠️  Interrupts: 0 active\n",
      "\n",
      "💬 MESSAGES (5 total):\n",
      "  1. [tool]: Fast analysis completed: sales-data-Q4 - Decision: approved\n",
      "  2. [tool]: Slow processing completed: customer-feedback-data (detailed) - Decision: approved\n",
      "  3. [ai]: The operations were completed successfully:\n",
      "\n",
      "1. **Fast Analysis**: Completed on `sales-data-Q4` - De...\n",
      "\n",
      "==================================================\n"
     ]
    }
   ],
   "source": [
    "# Strategy 1: Accept all interrupts\n",
    "if state.interrupts:\n",
    "    print(\"\\n🟢 STRATEGY 1: ACCEPT ALL INTERRUPTS\")\n",
    "    print(\"=\" * 40)\n",
    "    \n",
    "    resume_map = {\n",
    "        interrupt.id: {\"type\": \"accept\"}\n",
    "        for interrupt in state.interrupts\n",
    "    }\n",
    "    \n",
    "    print(f\"📤 Resume map: {json.dumps(resume_map, indent=2)}\")\n",
    "    \n",
    "    # Resume execution\n",
    "    resume_start = datetime.now()\n",
    "    final_response = agent.invoke(\n",
    "        Command(resume=resume_map),\n",
    "        config=config,\n",
    "    )\n",
    "    \n",
    "    print(f\"\\n⏱️  Resume execution time: {(datetime.now() - resume_start).total_seconds():.2f}s\")\n",
    "    print(f\"🏁 Total execution time: {(datetime.now() - start_time).total_seconds():.2f}s\")\n",
    "    \n",
    "    # Show final result\n",
    "    if final_response and 'messages' in final_response:\n",
    "        last_message = final_response['messages'][-1]\n",
    "        print(f\"\\n💬 Final Response: {getattr(last_message, 'content', last_message)}\")\n",
    "    \n",
    "    # Show updated state\n",
    "    final_state = agent.get_state(config)\n",
    "    display_state_info(final_state)\n",
    "else:\n",
    "    print(\"\\n✅ No interrupts to handle - execution already completed!\")"
   ]
  },
  {
   "cell_type": "markdown",
   "metadata": {},
   "source": [
    "## 6. Alternative Response Strategy - Edit Parameters\n",
    "\n",
    "Demonstrate how to edit tool parameters during interrupt handling."
   ]
  },
  {
   "cell_type": "code",
   "execution_count": 8,
   "metadata": {},
   "outputs": [
    {
     "name": "stdout",
     "output_type": "stream",
     "text": [
      "\n",
      "🧪 TESTING PARAMETER EDITING\n",
      "========================================\n",
      "📝 Query: Use slow_processing_tool to process 'test-data' with default mode\n"
     ]
    },
    {
     "name": "stderr",
     "output_type": "stream",
     "text": [
      "2025-08-19 15:18:38 - httpx - INFO - HTTP Request: POST https://api.openai.com/v1/chat/completions \"HTTP/1.1 200 OK\"\n",
      "2025-08-19 15:18:38 - agent - INFO - [SLOW_TOOL] Starting full processing of: test-data\n",
      "2025-08-19 15:18:38 - agent - INFO - [SLOW_TOOL] Processing mode: full\n",
      "2025-08-19 15:18:38 - agent - INFO - [SLOW_TOOL] Sleeping for 2 seconds...\n",
      "2025-08-19 15:18:40 - agent - INFO - [SLOW_TOOL] Interrupting for human approval with ID: b9413241-7a82-420e-aae2-df1aecaf486d\n",
      "2025-08-19 15:18:40 - agent - INFO - [SLOW_TOOL] Starting full processing of: test-data\n",
      "2025-08-19 15:18:40 - agent - INFO - [SLOW_TOOL] Processing mode: full\n",
      "2025-08-19 15:18:40 - agent - INFO - [SLOW_TOOL] Sleeping for 2 seconds...\n"
     ]
    },
    {
     "name": "stdout",
     "output_type": "stream",
     "text": [
      "\n",
      "🎯 Found interrupts - will demonstrate parameter editing\n",
      "\n",
      "🚨 INTERRUPT DETAILS FOR HUMAN REVIEW\n",
      "============================================================\n",
      "\n",
      "📋 Interrupt #1\n",
      "   🆔 ID: b9413241-7a82-420e-aae2-df1aecaf486d\n",
      "   📝 Description: Slow processing tool needs approval for full processing of: test-data.\n",
      "   🔧 Action: slow_processing\n",
      "   📊 Args: {\n",
      "        \"data\": \"test-data\",\n",
      "        \"mode\": \"full\"\n",
      "}\n",
      "   ⚙️  Allowed Actions:\n",
      "      • Accept: True\n",
      "      • Edit: True\n",
      "      • Ignore: True\n",
      "      • Respond: False\n",
      "\n",
      "============================================================\n",
      "\n",
      "🔧 EDITING PARAMETERS\n",
      "📤 Resume map with edits: {\n",
      "  \"db59772bceb702beb67e4c7783d29959\": {\n",
      "    \"type\": \"edit\",\n",
      "    \"args\": {\n",
      "      \"mode\": \"quick\"\n",
      "    }\n",
      "  }\n",
      "}\n"
     ]
    },
    {
     "name": "stderr",
     "output_type": "stream",
     "text": [
      "2025-08-19 15:18:42 - agent - INFO - [SLOW_TOOL] Interrupting for human approval with ID: 2c301bed-40f0-4f06-9c48-a43701d8d8b1\n",
      "2025-08-19 15:18:42 - agent - INFO - [SLOW_TOOL] Received response for interrupt 2c301bed-40f0-4f06-9c48-a43701d8d8b1: {'type': 'edit', 'args': {'mode': 'quick'}}\n",
      "2025-08-19 15:18:42 - agent - INFO - [SLOW_TOOL] Response type: edit\n",
      "2025-08-19 15:18:42 - agent - INFO - [SLOW_TOOL] Processing mode changed from 'full' to 'quick'\n",
      "2025-08-19 15:18:42 - agent - INFO - [SLOW_TOOL] Total execution time: 2 seconds\n",
      "2025-08-19 15:18:43 - httpx - INFO - HTTP Request: POST https://api.openai.com/v1/chat/completions \"HTTP/1.1 200 OK\"\n"
     ]
    },
    {
     "name": "stdout",
     "output_type": "stream",
     "text": [
      "\n",
      "💬 Result with edited parameters: The processing of 'test-data' has been completed in quick mode. The decision to modify the processing mode was successfully executed.\n"
     ]
    }
   ],
   "source": [
    "# Start a new session to test parameter editing\n",
    "config_edit_test = {\n",
    "    \"configurable\": {\"thread_id\": \"edit_test_session\"},\n",
    "    \"recursion_limit\": 50\n",
    "}\n",
    "\n",
    "print(\"\\n🧪 TESTING PARAMETER EDITING\")\n",
    "print(\"=\" * 40)\n",
    "\n",
    "# Test with a simpler query\n",
    "edit_query = \"Use slow_processing_tool to process 'test-data' with default mode\"\n",
    "\n",
    "print(f\"📝 Query: {edit_query}\")\n",
    "\n",
    "# Start execution\n",
    "response = agent.invoke(\n",
    "    {\"messages\": [(\"user\", edit_query)]},\n",
    "    config=config_edit_test,\n",
    ")\n",
    "\n",
    "# Get state and check for interrupts\n",
    "edit_state = agent.get_state(config_edit_test)\n",
    "\n",
    "if edit_state.interrupts:\n",
    "    print(\"\\n🎯 Found interrupts - will demonstrate parameter editing\")\n",
    "    display_interrupt_details(edit_state.interrupts)\n",
    "    \n",
    "    # Edit the mode parameter\n",
    "    resume_map = {\n",
    "        interrupt.id: {\n",
    "            \"type\": \"edit\",\n",
    "            \"args\": {\"mode\": \"quick\"}  # Change from 'full' to 'quick'\n",
    "        }\n",
    "        for interrupt in edit_state.interrupts\n",
    "    }\n",
    "    \n",
    "    print(f\"\\n🔧 EDITING PARAMETERS\")\n",
    "    print(f\"📤 Resume map with edits: {json.dumps(resume_map, indent=2)}\")\n",
    "    \n",
    "    # Resume with edits\n",
    "    edited_response = agent.invoke(\n",
    "        Command(resume=resume_map),\n",
    "        config=config_edit_test,\n",
    "    )\n",
    "    \n",
    "    # Show result\n",
    "    if edited_response and 'messages' in edited_response:\n",
    "        last_message = edited_response['messages'][-1]\n",
    "        print(f\"\\n💬 Result with edited parameters: {getattr(last_message, 'content', last_message)}\")\n",
    "else:\n",
    "    print(\"\\n❌ No interrupts found - execution completed without interruption\")"
   ]
  },
  {
   "cell_type": "markdown",
   "metadata": {},
   "source": [
    "## 7. State History and Persistence\n",
    "\n",
    "Explore how state persists across multiple interactions."
   ]
  },
  {
   "cell_type": "code",
   "execution_count": 9,
   "metadata": {},
   "outputs": [
    {
     "name": "stdout",
     "output_type": "stream",
     "text": [
      "\n",
      "📚 STATE HISTORY ANALYSIS\n",
      "========================================\n",
      "📊 Available state snapshots:\n",
      "\n",
      "  Snapshot 1:\n",
      "    🆔 Config: {'configurable': {'thread_id': 'notebook_session', 'checkpoint_ns': '', 'checkpoint_id': '1f07d28e-12a5-6f70-8003-aa7292fc5453'}}\n",
      "    📅 Created: 2025-08-19T18:18:17.829970+00:00\n",
      "    🎯 Next: ()\n",
      "    ⚠️  Interrupts: 0\n",
      "    💬 Messages: 5\n",
      "\n",
      "  Snapshot 2:\n",
      "    🆔 Config: {'configurable': {'thread_id': 'notebook_session', 'checkpoint_ns': '', 'checkpoint_id': '1f07d28e-0354-6530-8002-d2eef33e07b4'}}\n",
      "    📅 Created: 2025-08-19T18:18:16.223650+00:00\n",
      "    🎯 Next: ('agent',)\n",
      "    ⚠️  Interrupts: 0\n",
      "    💬 Messages: 4\n",
      "\n",
      "  Snapshot 3:\n",
      "    🆔 Config: {'configurable': {'thread_id': 'notebook_session', 'checkpoint_ns': '', 'checkpoint_id': '1f07d28d-80b5-6ad4-8001-45d703b6dff7'}}\n",
      "    📅 Created: 2025-08-19T18:18:02.527195+00:00\n",
      "    🎯 Next: ('tools', 'tools')\n",
      "    ⚠️  Interrupts: 2\n",
      "    💬 Messages: 2\n",
      "\n",
      "  Snapshot 4:\n",
      "    🆔 Config: {'configurable': {'thread_id': 'notebook_session', 'checkpoint_ns': '', 'checkpoint_id': '1f07d28d-6765-6f7a-8000-65263d53a2f0'}}\n",
      "    📅 Created: 2025-08-19T18:17:59.873096+00:00\n",
      "    🎯 Next: ('agent',)\n",
      "    ⚠️  Interrupts: 0\n",
      "    💬 Messages: 1\n",
      "\n",
      "  Snapshot 5:\n",
      "    🆔 Config: {'configurable': {'thread_id': 'notebook_session', 'checkpoint_ns': '', 'checkpoint_id': '1f07d28d-6761-6ab0-bfff-1fa51cfbd9b6'}}\n",
      "    📅 Created: 2025-08-19T18:17:59.871347+00:00\n",
      "    🎯 Next: ('__start__',)\n",
      "    ⚠️  Interrupts: 0\n",
      "    💬 Messages: 0\n",
      "\n",
      "========================================\n"
     ]
    }
   ],
   "source": [
    "print(\"\\n📚 STATE HISTORY ANALYSIS\")\n",
    "print(\"=\" * 40)\n",
    "\n",
    "# Check state history for main session\n",
    "try:\n",
    "    state_history = agent.get_state_history(config)\n",
    "    \n",
    "    print(f\"📊 Available state snapshots:\")\n",
    "    \n",
    "    for i, state_snapshot in enumerate(state_history):\n",
    "        if i >= 5:  # Limit to first 5 snapshots\n",
    "            break\n",
    "            \n",
    "        print(f\"\\n  Snapshot {i+1}:\")\n",
    "        print(f\"    🆔 Config: {state_snapshot.config}\")\n",
    "        print(f\"    📅 Created: {state_snapshot.created_at}\")\n",
    "        print(f\"    🎯 Next: {state_snapshot.next}\")\n",
    "        print(f\"    ⚠️  Interrupts: {len(state_snapshot.interrupts)}\")\n",
    "        \n",
    "        if state_snapshot.values and 'messages' in state_snapshot.values:\n",
    "            msg_count = len(state_snapshot.values['messages'])\n",
    "            print(f\"    💬 Messages: {msg_count}\")\n",
    "            \n",
    "except Exception as e:\n",
    "    print(f\"❌ Error getting state history: {e}\")\n",
    "\n",
    "print(\"\\n\" + \"=\" * 40)"
   ]
  },
  {
   "cell_type": "markdown",
   "metadata": {},
   "source": [
    "## 8. Interactive State Exploration\n",
    "\n",
    "Tools for exploring and understanding your graph state in real-time."
   ]
  },
  {
   "cell_type": "code",
   "execution_count": 10,
   "metadata": {},
   "outputs": [
    {
     "name": "stdout",
     "output_type": "stream",
     "text": [
      "\n",
      "🔍 INTERACTIVE STATE EXPLORER\n",
      "==================================================\n",
      "📊 Total Messages: 5\n",
      "📊 Active Interrupts: 0\n",
      "📊 Next Nodes: 0\n",
      "📊 State Keys: 1\n",
      "📊 Thread ID: notebook_session\n"
     ]
    }
   ],
   "source": [
    "def explore_state_interactive():\n",
    "    \"\"\"Interactive state exploration function.\"\"\"\n",
    "    current_state = agent.get_state(config)\n",
    "    \n",
    "    print(\"\\n🔍 INTERACTIVE STATE EXPLORER\")\n",
    "    print(\"=\" * 50)\n",
    "    \n",
    "    # Quick stats\n",
    "    stats = {\n",
    "        \"Total Messages\": len(current_state.values.get('messages', [])) if current_state.values else 0,\n",
    "        \"Active Interrupts\": len(current_state.interrupts),\n",
    "        \"Next Nodes\": len(current_state.next) if current_state.next else 0,\n",
    "        \"State Keys\": len(current_state.values.keys()) if current_state.values else 0,\n",
    "        \"Thread ID\": config['configurable']['thread_id']\n",
    "    }\n",
    "    \n",
    "    for key, value in stats.items():\n",
    "        print(f\"📊 {key}: {value}\")\n",
    "    \n",
    "    return current_state\n",
    "\n",
    "# Run interactive exploration\n",
    "current_state = explore_state_interactive()"
   ]
  },
  {
   "cell_type": "markdown",
   "metadata": {},
   "source": [
    "## 9. Custom Interrupt Handling Scenarios\n",
    "\n",
    "Test different interrupt response combinations."
   ]
  },
  {
   "cell_type": "code",
   "execution_count": 11,
   "metadata": {},
   "outputs": [
    {
     "name": "stdout",
     "output_type": "stream",
     "text": [
      "\n",
      "🎭 MIXED RESPONSE TESTING\n",
      "========================================\n"
     ]
    },
    {
     "name": "stderr",
     "output_type": "stream",
     "text": [
      "2025-08-19 15:19:13 - httpx - INFO - HTTP Request: POST https://api.openai.com/v1/chat/completions \"HTTP/1.1 200 OK\"\n",
      "2025-08-19 15:19:13 - agent - INFO - [SLOW_TOOL] Starting full processing of: dataset-Y\n",
      "2025-08-19 15:19:13 - agent - INFO - [SLOW_TOOL] Processing mode: full\n",
      "2025-08-19 15:19:13 - agent - INFO - [FAST_TOOL] Starting analysis of: dataset-X\n",
      "2025-08-19 15:19:13 - agent - INFO - [SLOW_TOOL] Sleeping for 2 seconds...\n",
      "2025-08-19 15:19:13 - agent - INFO - [FAST_TOOL] Sleeping for 2 seconds...\n",
      "2025-08-19 15:19:15 - agent - INFO - [FAST_TOOL] Interrupting for human approval with ID: 9291177e-2964-48bd-b2ba-b5c524192f19\n",
      "2025-08-19 15:19:15 - agent - INFO - [SLOW_TOOL] Interrupting for human approval with ID: 4f55dcdb-986e-4833-b494-0eecca35537f\n",
      "2025-08-19 15:19:15 - agent - INFO - [FAST_TOOL] Starting analysis of: dataset-X\n",
      "2025-08-19 15:19:15 - agent - INFO - [SLOW_TOOL] Starting full processing of: dataset-Y\n",
      "2025-08-19 15:19:15 - agent - INFO - [FAST_TOOL] Sleeping for 2 seconds...\n",
      "2025-08-19 15:19:15 - agent - INFO - [SLOW_TOOL] Processing mode: full\n",
      "2025-08-19 15:19:15 - agent - INFO - [SLOW_TOOL] Sleeping for 2 seconds...\n"
     ]
    },
    {
     "name": "stdout",
     "output_type": "stream",
     "text": [
      "✅ Created 2 interrupts for mixed testing\n",
      "📝 Interrupt 1: ACCEPT\n",
      "📝 Interrupt 2: IGNORE\n"
     ]
    },
    {
     "name": "stderr",
     "output_type": "stream",
     "text": [
      "2025-08-19 15:19:17 - agent - INFO - [FAST_TOOL] Interrupting for human approval with ID: 1fd379b5-8e1e-480c-a5ac-9b5cb228e69e\n",
      "2025-08-19 15:19:17 - agent - INFO - [SLOW_TOOL] Interrupting for human approval with ID: 8153ac23-aead-46fb-a5fe-ea04a86e1776\n",
      "2025-08-19 15:19:17 - agent - INFO - [FAST_TOOL] Received response for interrupt 1fd379b5-8e1e-480c-a5ac-9b5cb228e69e: {'type': 'accept'}\n",
      "2025-08-19 15:19:17 - agent - INFO - [SLOW_TOOL] Received response for interrupt 8153ac23-aead-46fb-a5fe-ea04a86e1776: {'type': 'ignore'}\n",
      "2025-08-19 15:19:17 - agent - INFO - [FAST_TOOL] Response type: accept\n",
      "2025-08-19 15:19:17 - agent - INFO - [SLOW_TOOL] Response type: ignore\n",
      "2025-08-19 15:19:17 - agent - INFO - [FAST_TOOL] Analysis approved\n",
      "2025-08-19 15:19:17 - agent - INFO - [FAST_TOOL] Total execution time: 2 seconds\n",
      "2025-08-19 15:19:17 - agent - WARNING - [SLOW_TOOL] Processing cancelled by user\n",
      "2025-08-19 15:19:17 - agent - INFO - [SLOW_TOOL] Total execution time: 2 seconds\n",
      "2025-08-19 15:19:19 - httpx - INFO - HTTP Request: POST https://api.openai.com/v1/chat/completions \"HTTP/1.1 200 OK\"\n"
     ]
    },
    {
     "name": "stdout",
     "output_type": "stream",
     "text": [
      "\n",
      "🎯 Mixed response result: The results of the operations are as follows:\n",
      "\n",
      "- **Fast Analysis:** Completed for `dataset-X` - Decision: approved.\n",
      "- **Slow Processing:** Cancelled for `dataset-Y`.\n"
     ]
    }
   ],
   "source": [
    "# Test mixed responses (accept some, ignore others)\n",
    "def test_mixed_responses():\n",
    "    \"\"\"Test mixed interrupt responses.\"\"\"\n",
    "    config_mixed = {\n",
    "        \"configurable\": {\"thread_id\": \"mixed_response_test\"},\n",
    "        \"recursion_limit\": 50\n",
    "    }\n",
    "    \n",
    "    print(\"\\n🎭 MIXED RESPONSE TESTING\")\n",
    "    print(\"=\" * 40)\n",
    "    \n",
    "    # Query that will create multiple interrupts\n",
    "    mixed_query = \"Analyze 'dataset-X' with fast tool and process 'dataset-Y' with slow tool using 'full' mode\"\n",
    "    \n",
    "    response = agent.invoke(\n",
    "        {\"messages\": [(\"user\", mixed_query)]},\n",
    "        config=config_mixed,\n",
    "    )\n",
    "    \n",
    "    state = agent.get_state(config_mixed)\n",
    "    \n",
    "    if len(state.interrupts) >= 2:\n",
    "        print(f\"✅ Created {len(state.interrupts)} interrupts for mixed testing\")\n",
    "        \n",
    "        # Mixed response: accept first, ignore second (if exists)\n",
    "        resume_map = {}\n",
    "        for i, interrupt in enumerate(state.interrupts):\n",
    "            if i == 0:\n",
    "                resume_map[interrupt.id] = {\"type\": \"accept\"}\n",
    "                print(f\"📝 Interrupt {i+1}: ACCEPT\")\n",
    "            else:\n",
    "                resume_map[interrupt.id] = {\"type\": \"ignore\"}\n",
    "                print(f\"📝 Interrupt {i+1}: IGNORE\")\n",
    "        \n",
    "        # Resume with mixed responses\n",
    "        final_response = agent.invoke(\n",
    "            Command(resume=resume_map),\n",
    "            config=config_mixed,\n",
    "        )\n",
    "        \n",
    "        # Show results\n",
    "        if final_response and 'messages' in final_response:\n",
    "            last_message = final_response['messages'][-1]\n",
    "            print(f\"\\n🎯 Mixed response result: {getattr(last_message, 'content', last_message)}\")\n",
    "    else:\n",
    "        print(f\"⚠️  Only {len(state.interrupts)} interrupts created - mixed testing needs 2+\")\n",
    "\n",
    "# Run mixed response test\n",
    "test_mixed_responses()"
   ]
  },
  {
   "cell_type": "markdown",
   "metadata": {},
   "source": [
    "## 10. Summary and Key Insights\n",
    "\n",
    "Summary of your LangGraph concurrent interrupts implementation."
   ]
  },
  {
   "cell_type": "code",
   "execution_count": 12,
   "metadata": {},
   "outputs": [
    {
     "name": "stdout",
     "output_type": "stream",
     "text": [
      "\n",
      "📋 LANGGRAPH CONCURRENT INTERRUPTS SUMMARY\n",
      "============================================================\n",
      "  🤖 Agent Type: React Agent v2 with parallel execution\n",
      "  🛠️  Tools: fast_analysis_tool, slow_processing_tool\n",
      "  ⏸️  Interrupt Pattern: Agent-inbox with structured requests\n",
      "  🔄 State Management: MemorySaver checkpointer\n",
      "  🎯 Concurrent Execution: Multiple tools can interrupt simultaneously\n",
      "  📝 Response Types: accept, ignore, edit, respond\n",
      "  🆔 Interrupt Tracking: UUID-based interrupt identification\n",
      "  📊 State Persistence: Full conversation and interrupt history\n",
      "\n",
      "🔑 KEY FEATURES:\n",
      "  • Each tool can interrupt independently\n",
      "  • Human can accept, ignore, or edit tool parameters\n",
      "  • State persists across interrupt/resume cycles\n",
      "  • Concurrent tool execution with individual approval\n",
      "  • Structured interrupt data with configuration options\n",
      "\n",
      "🎮 USAGE PATTERNS:\n",
      "  1. Send query → Tools execute → Interrupts triggered\n",
      "  2. Review interrupt details → Choose response strategy\n",
      "  3. Resume with Command(resume=response_map)\n",
      "  4. Continue until completion or next interrupt\n",
      "\n",
      "============================================================\n",
      "✅ Notebook analysis complete!\n",
      "📝 Use this notebook to explore different interrupt scenarios\n"
     ]
    }
   ],
   "source": [
    "print(\"\\n📋 LANGGRAPH CONCURRENT INTERRUPTS SUMMARY\")\n",
    "print(\"=\" * 60)\n",
    "\n",
    "summary_points = [\n",
    "    \"🤖 Agent Type: React Agent v2 with parallel execution\",\n",
    "    \"🛠️  Tools: fast_analysis_tool, slow_processing_tool\",\n",
    "    \"⏸️  Interrupt Pattern: Agent-inbox with structured requests\",\n",
    "    \"🔄 State Management: MemorySaver checkpointer\",\n",
    "    \"🎯 Concurrent Execution: Multiple tools can interrupt simultaneously\",\n",
    "    \"📝 Response Types: accept, ignore, edit, respond\",\n",
    "    \"🆔 Interrupt Tracking: UUID-based interrupt identification\",\n",
    "    \"📊 State Persistence: Full conversation and interrupt history\"\n",
    "]\n",
    "\n",
    "for point in summary_points:\n",
    "    print(f\"  {point}\")\n",
    "\n",
    "print(\"\\n🔑 KEY FEATURES:\")\n",
    "print(\"  • Each tool can interrupt independently\")\n",
    "print(\"  • Human can accept, ignore, or edit tool parameters\")\n",
    "print(\"  • State persists across interrupt/resume cycles\")\n",
    "print(\"  • Concurrent tool execution with individual approval\")\n",
    "print(\"  • Structured interrupt data with configuration options\")\n",
    "\n",
    "print(\"\\n🎮 USAGE PATTERNS:\")\n",
    "print(\"  1. Send query → Tools execute → Interrupts triggered\")\n",
    "print(\"  2. Review interrupt details → Choose response strategy\")\n",
    "print(\"  3. Resume with Command(resume=response_map)\")\n",
    "print(\"  4. Continue until completion or next interrupt\")\n",
    "\n",
    "print(\"\\n\" + \"=\" * 60)\n",
    "print(\"✅ Notebook analysis complete!\")\n",
    "print(\"📝 Use this notebook to explore different interrupt scenarios\")"
   ]
  }
 ],
 "metadata": {
  "kernelspec": {
   "display_name": ".venv",
   "language": "python",
   "name": "python3"
  },
  "language_info": {
   "codemirror_mode": {
    "name": "ipython",
    "version": 3
   },
   "file_extension": ".py",
   "mimetype": "text/x-python",
   "name": "python",
   "nbconvert_exporter": "python",
   "pygments_lexer": "ipython3",
   "version": "3.12.8"
  }
 },
 "nbformat": 4,
 "nbformat_minor": 4
}
